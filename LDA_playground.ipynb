{
  "nbformat": 4,
  "nbformat_minor": 0,
  "metadata": {
    "colab": {
      "name": "LDA_playground.ipynb",
      "provenance": [],
      "collapsed_sections": [
        "FpdS0hyUxf72"
      ],
      "toc_visible": true,
      "authorship_tag": "ABX9TyOdi02aAkc+xI1TFhBWv3MA",
      "include_colab_link": true
    },
    "kernelspec": {
      "name": "python3",
      "display_name": "Python 3"
    },
    "language_info": {
      "name": "python"
    },
    "widgets": {
      "application/vnd.jupyter.widget-state+json": {
        "f0e6743db2144eabaf8b3066c4728c62": {
          "model_module": "@jupyter-widgets/controls",
          "model_name": "VBoxModel",
          "model_module_version": "1.5.0",
          "state": {
            "_view_name": "VBoxView",
            "_dom_classes": [
              "widget-interact"
            ],
            "_model_name": "VBoxModel",
            "_view_module": "@jupyter-widgets/controls",
            "_model_module_version": "1.5.0",
            "_view_count": null,
            "_view_module_version": "1.5.0",
            "box_style": "",
            "layout": "IPY_MODEL_1a5e8d21f7804c3b88acc1528e9d4d39",
            "_model_module": "@jupyter-widgets/controls",
            "children": [
              "IPY_MODEL_c5eb91363ce6403c84fcd7d60c735218",
              "IPY_MODEL_8cd9e1abd4e14ef8ac0b2c0c6c1a54d0",
              "IPY_MODEL_ac97b2f686ab46cbb265c5501b9342d5"
            ]
          }
        },
        "1a5e8d21f7804c3b88acc1528e9d4d39": {
          "model_module": "@jupyter-widgets/base",
          "model_name": "LayoutModel",
          "model_module_version": "1.2.0",
          "state": {
            "_view_name": "LayoutView",
            "grid_template_rows": null,
            "right": null,
            "justify_content": null,
            "_view_module": "@jupyter-widgets/base",
            "overflow": null,
            "_model_module_version": "1.2.0",
            "_view_count": null,
            "flex_flow": null,
            "width": null,
            "min_width": null,
            "border": null,
            "align_items": null,
            "bottom": null,
            "_model_module": "@jupyter-widgets/base",
            "top": null,
            "grid_column": null,
            "overflow_y": null,
            "overflow_x": null,
            "grid_auto_flow": null,
            "grid_area": null,
            "grid_template_columns": null,
            "flex": null,
            "_model_name": "LayoutModel",
            "justify_items": null,
            "grid_row": null,
            "max_height": null,
            "align_content": null,
            "visibility": null,
            "align_self": null,
            "height": null,
            "min_height": null,
            "padding": null,
            "grid_auto_rows": null,
            "grid_gap": null,
            "max_width": null,
            "order": null,
            "_view_module_version": "1.2.0",
            "grid_template_areas": null,
            "object_position": null,
            "object_fit": null,
            "grid_auto_columns": null,
            "margin": null,
            "display": null,
            "left": null
          }
        },
        "c5eb91363ce6403c84fcd7d60c735218": {
          "model_module": "@jupyter-widgets/controls",
          "model_name": "SelectModel",
          "model_module_version": "1.5.0",
          "state": {
            "_options_labels": [
              "collection_txt.zip"
            ],
            "_view_name": "SelectView",
            "style": "IPY_MODEL_4fce990a360543129b15241fdfcac216",
            "rows": 2,
            "_dom_classes": [],
            "description": "Source:",
            "_model_name": "SelectModel",
            "index": 0,
            "_view_module": "@jupyter-widgets/controls",
            "_model_module_version": "1.5.0",
            "_view_count": null,
            "disabled": false,
            "_view_module_version": "1.5.0",
            "description_tooltip": null,
            "_model_module": "@jupyter-widgets/controls",
            "layout": "IPY_MODEL_f9ca3e36d9674cebbbe0020f96bbd777"
          }
        },
        "8cd9e1abd4e14ef8ac0b2c0c6c1a54d0": {
          "model_module": "@jupyter-widgets/controls",
          "model_name": "ButtonModel",
          "model_module_version": "1.5.0",
          "state": {
            "_view_name": "ButtonView",
            "style": "IPY_MODEL_5ae9811fe3da48a8b0c4898679cf6912",
            "_dom_classes": [],
            "description": "Run Interact",
            "_model_name": "ButtonModel",
            "button_style": "",
            "_view_module": "@jupyter-widgets/controls",
            "_model_module_version": "1.5.0",
            "tooltip": "",
            "_view_count": null,
            "disabled": false,
            "_view_module_version": "1.5.0",
            "layout": "IPY_MODEL_3d82f2a21de7489d8433a79dec915e0b",
            "_model_module": "@jupyter-widgets/controls",
            "icon": ""
          }
        },
        "ac97b2f686ab46cbb265c5501b9342d5": {
          "model_module": "@jupyter-widgets/output",
          "model_name": "OutputModel",
          "model_module_version": "1.0.0",
          "state": {
            "_view_name": "OutputView",
            "msg_id": "",
            "_dom_classes": [],
            "_model_name": "OutputModel",
            "outputs": [
              {
                "output_type": "display_data",
                "data": {
                  "application/vnd.google.colaboratory.intrinsic+json": {
                    "type": "string"
                  },
                  "text/plain": "'Loaded 149 documents into corpus from collection_txt.zip'"
                },
                "metadata": {}
              }
            ],
            "_view_module": "@jupyter-widgets/output",
            "_model_module_version": "1.0.0",
            "_view_count": null,
            "_view_module_version": "1.0.0",
            "layout": "IPY_MODEL_b7c5e35e71d040419796c7f040fe0aa7",
            "_model_module": "@jupyter-widgets/output"
          }
        },
        "4fce990a360543129b15241fdfcac216": {
          "model_module": "@jupyter-widgets/controls",
          "model_name": "DescriptionStyleModel",
          "model_module_version": "1.5.0",
          "state": {
            "_view_name": "StyleView",
            "_model_name": "DescriptionStyleModel",
            "description_width": "",
            "_view_module": "@jupyter-widgets/base",
            "_model_module_version": "1.5.0",
            "_view_count": null,
            "_view_module_version": "1.2.0",
            "_model_module": "@jupyter-widgets/controls"
          }
        },
        "f9ca3e36d9674cebbbe0020f96bbd777": {
          "model_module": "@jupyter-widgets/base",
          "model_name": "LayoutModel",
          "model_module_version": "1.2.0",
          "state": {
            "_view_name": "LayoutView",
            "grid_template_rows": null,
            "right": null,
            "justify_content": null,
            "_view_module": "@jupyter-widgets/base",
            "overflow": null,
            "_model_module_version": "1.2.0",
            "_view_count": null,
            "flex_flow": null,
            "width": null,
            "min_width": null,
            "border": null,
            "align_items": null,
            "bottom": null,
            "_model_module": "@jupyter-widgets/base",
            "top": null,
            "grid_column": null,
            "overflow_y": null,
            "overflow_x": null,
            "grid_auto_flow": null,
            "grid_area": null,
            "grid_template_columns": null,
            "flex": null,
            "_model_name": "LayoutModel",
            "justify_items": null,
            "grid_row": null,
            "max_height": null,
            "align_content": null,
            "visibility": null,
            "align_self": null,
            "height": null,
            "min_height": null,
            "padding": null,
            "grid_auto_rows": null,
            "grid_gap": null,
            "max_width": null,
            "order": null,
            "_view_module_version": "1.2.0",
            "grid_template_areas": null,
            "object_position": null,
            "object_fit": null,
            "grid_auto_columns": null,
            "margin": null,
            "display": null,
            "left": null
          }
        },
        "5ae9811fe3da48a8b0c4898679cf6912": {
          "model_module": "@jupyter-widgets/controls",
          "model_name": "ButtonStyleModel",
          "model_module_version": "1.5.0",
          "state": {
            "_view_name": "StyleView",
            "_model_name": "ButtonStyleModel",
            "_view_module": "@jupyter-widgets/base",
            "_model_module_version": "1.5.0",
            "_view_count": null,
            "button_color": null,
            "font_weight": "",
            "_view_module_version": "1.2.0",
            "_model_module": "@jupyter-widgets/controls"
          }
        },
        "3d82f2a21de7489d8433a79dec915e0b": {
          "model_module": "@jupyter-widgets/base",
          "model_name": "LayoutModel",
          "model_module_version": "1.2.0",
          "state": {
            "_view_name": "LayoutView",
            "grid_template_rows": null,
            "right": null,
            "justify_content": null,
            "_view_module": "@jupyter-widgets/base",
            "overflow": null,
            "_model_module_version": "1.2.0",
            "_view_count": null,
            "flex_flow": null,
            "width": null,
            "min_width": null,
            "border": null,
            "align_items": null,
            "bottom": null,
            "_model_module": "@jupyter-widgets/base",
            "top": null,
            "grid_column": null,
            "overflow_y": null,
            "overflow_x": null,
            "grid_auto_flow": null,
            "grid_area": null,
            "grid_template_columns": null,
            "flex": null,
            "_model_name": "LayoutModel",
            "justify_items": null,
            "grid_row": null,
            "max_height": null,
            "align_content": null,
            "visibility": null,
            "align_self": null,
            "height": null,
            "min_height": null,
            "padding": null,
            "grid_auto_rows": null,
            "grid_gap": null,
            "max_width": null,
            "order": null,
            "_view_module_version": "1.2.0",
            "grid_template_areas": null,
            "object_position": null,
            "object_fit": null,
            "grid_auto_columns": null,
            "margin": null,
            "display": null,
            "left": null
          }
        },
        "b7c5e35e71d040419796c7f040fe0aa7": {
          "model_module": "@jupyter-widgets/base",
          "model_name": "LayoutModel",
          "model_module_version": "1.2.0",
          "state": {
            "_view_name": "LayoutView",
            "grid_template_rows": null,
            "right": null,
            "justify_content": null,
            "_view_module": "@jupyter-widgets/base",
            "overflow": null,
            "_model_module_version": "1.2.0",
            "_view_count": null,
            "flex_flow": null,
            "width": null,
            "min_width": null,
            "border": null,
            "align_items": null,
            "bottom": null,
            "_model_module": "@jupyter-widgets/base",
            "top": null,
            "grid_column": null,
            "overflow_y": null,
            "overflow_x": null,
            "grid_auto_flow": null,
            "grid_area": null,
            "grid_template_columns": null,
            "flex": null,
            "_model_name": "LayoutModel",
            "justify_items": null,
            "grid_row": null,
            "max_height": null,
            "align_content": null,
            "visibility": null,
            "align_self": null,
            "height": null,
            "min_height": null,
            "padding": null,
            "grid_auto_rows": null,
            "grid_gap": null,
            "max_width": null,
            "order": null,
            "_view_module_version": "1.2.0",
            "grid_template_areas": null,
            "object_position": null,
            "object_fit": null,
            "grid_auto_columns": null,
            "margin": null,
            "display": null,
            "left": null
          }
        }
      }
    }
  },
  "cells": [
    {
      "cell_type": "markdown",
      "metadata": {
        "id": "view-in-github",
        "colab_type": "text"
      },
      "source": [
        "<a href=\"https://colab.research.google.com/github/MatJohaDH/LDA_playground/blob/main/LDA_playground.ipynb\" target=\"_parent\"><img src=\"https://colab.research.google.com/assets/colab-badge.svg\" alt=\"Open In Colab\"/></a>"
      ]
    },
    {
      "cell_type": "code",
      "metadata": {
        "id": "qtyInHfbxDFD",
        "outputId": "ad9b864e-924d-4133-8e18-b80e0a59c302",
        "colab": {
          "base_uri": "https://localhost:8080/"
        }
      },
      "source": [
        "\n",
        "#@title Welcome to Jupyter notebooks! { run: \"auto\", vertical-output: true, display-mode: \"form\" }\n",
        "#@markdown This _notebook_ is made to be run in google colab, which is a free\n",
        "#@markdown (though somewhat limited) cloud computing service offered by ... \n",
        "#@markdown Google.\n",
        "\n",
        "#@markdown A very brief summary: It lets us run python-backed calculations\n",
        "#@markdown in a webbrowser without having to install anything on our local\n",
        "#@markdown machines.\n",
        "\n",
        "#@markdown In order to operate this you need to be aware of a few things of how\n",
        "#@markdown it works.\n",
        "#@markdown **Firstly**, this box (ending at the horizontal line below) is \n",
        "#@markdown called a *cell*. As a rule, each *cell* contains code. To *run* the\n",
        "#@markdown *cell*, that is execute the instructions in the code, we can either\n",
        "#@markdown click the circle with a 'play' triangle in the cell's top-left corner.\n",
        "#@markdown Or we simply hold <shift> and press <enter> to run the selected cell.\n",
        "#@markdown **Secondly**, the instructions in subsequent cells often depend on\n",
        "#@markdown the successfull execution of preceeding cells, so try to execute them\n",
        "#@markdown in sequence. \n",
        "#@markdown **Finally**, if you want to read the code in any of the\n",
        "#@markdown cells just double click on the text, and again to hide the code.\n",
        "\n",
        "from tqdm.notebook import tqdm\n",
        "import os\n",
        "import ipywidgets as widgets\n",
        "from ipywidgets import interact_manual\n",
        "import gensim\n",
        "import re\n",
        "import pandas as pd\n",
        "from nltk.stem.snowball import SnowballStemmer as stemmer\n",
        "!pip install stopwords\n",
        "# !pip install wordcloud\n",
        "from wordcloud import WordCloud as wc\n",
        "from stopwords import get_stopwords\n",
        "\n",
        "\n",
        "#add the swedish stopwords too...\n",
        "stopwords = {'English': {_ for _ in gensim.parsing.preprocessing.STOPWORDS},\n",
        "             'Swedish': {_ for _ in pd.read_csv('https://raw.githubusercontent.com/peterdalle/svensktext/master/stoppord/stoppord.csv', header=0, encoding='utf-8')['all']},\n",
        "             'Latin' : {_ for _ in get_stopwords('latin')}}\n",
        "\n",
        "stemmers = {'English': gensim.parsing.preprocessing.stem_text,\n",
        "            'Swedish': stemmer('swedish').stem,\n",
        "            'Latin': lambda token: token}\n",
        "import matplotlib.pyplot as plt\n",
        "\n",
        "%matplotlib inline\n",
        "from pprint import pprint\n",
        "\n",
        "if not os.path.exists('collection_txt.zip'):\n",
        "    !wget https://github.com/MatJohaDH/LDA_playground/raw/main/collection_txt.zip\n",
        "\n",
        "#@markdown ---"
      ],
      "execution_count": 3,
      "outputs": [
        {
          "output_type": "stream",
          "name": "stdout",
          "text": [
            "Requirement already satisfied: stopwords in /usr/local/lib/python3.7/dist-packages (1.0.0)\n"
          ]
        }
      ]
    },
    {
      "cell_type": "markdown",
      "metadata": {
        "id": "FpdS0hyUxf72"
      },
      "source": [
        "# Topic Modelling Playground\n",
        "\n",
        "This notebook has been prepared with the intention to make the topic modelling process more transparent, by giving easier access to some of the many knobs and dials of the process. If anything breaks, does not work as promised, is unclear or is missing do not hesitate to contact me and I will do my best to make things right: Mathias.Johansson@kom.lu.se\n",
        "\n",
        "## What is topic modelling?\n",
        "\n",
        "- Techniques for detecting _latent topics_ within a corpus\n",
        "- Threfore  a _topic_ does not refer to what we normally would consider a _topic_\n",
        "\n",
        "## What is it used for?\n",
        "\n",
        "- Document retreival\n",
        "- Literature review\n",
        "- Distant reading"
      ]
    },
    {
      "cell_type": "markdown",
      "metadata": {
        "id": "mUFJzCO32Fir"
      },
      "source": [
        "# 1. Uploading corpus\n",
        "\n",
        "In order to run a Topic Model we need a corpus, so the first thing we need to do\n",
        "is to upload a single *.txt* file or a collection of *.txt* files encapsuled in\n",
        "a *.zip* file. "
      ]
    },
    {
      "cell_type": "code",
      "metadata": {
        "id": "hHs23oOG2j5o",
        "outputId": "c99c84cd-4d1d-42ac-a393-fc6d9a0ae29f",
        "colab": {
          "resources": {
            "http://localhost:8080/nbextensions/google.colab/files.js": {
              "data": "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",
              "ok": true,
              "headers": [
                [
                  "content-type",
                  "application/javascript"
                ]
              ],
              "status": 200,
              "status_text": "OK"
            }
          },
          "base_uri": "https://localhost:8080/",
          "height": 39
        }
      },
      "source": [
        "#@title Upload zip file { run: \"auto\", vertical-output: true, display-mode: \"form\" }\n",
        "#@markdown In order to have some data to play with, we need to upload it into \n",
        "#@markdown the running notebook. Running this cell (shift+enter) or pressing the\n",
        "#@markdown circle with an arrow in the top left corner of the cell will start the\n",
        "#@markdown file uploading widget.\n",
        "\n",
        "#@markdown The widget works similary to many other similar user-interactions,\n",
        "#@markdown namely, press \"Browse...\" and select the file(s) you want to upload.\n",
        "\n",
        "#@markdown Any type of file _can_ be uploaded, but the notebook is set to read\n",
        "#@markdown only *.txt* files and can unzip *.zip* files to access them if necessary.\n",
        "from google.colab import files\n",
        "\n",
        "uploaded = files.upload()\n",
        "\n",
        "for fn in uploaded.keys():\n",
        "  print('User uploaded file \"{name}\" with length {length} bytes'.format(\n",
        "      name=fn, length=len(uploaded[fn])))\n",
        "  \n",
        "#@markdown By default the notebook will run a small toy example, if you want to\n",
        "#@markdown work with it running this cell is not necessary. However, if you did \n",
        "#@markdown run the cell, you will have to press the button \"Cancel upload\" to \n",
        "#@markdown continue to the next cell.\n",
        "#@markdown The example contains 149 texts taken from the description, portion of\n",
        "#@markdown games listed on https://boardgamegeek.com, particularly those games\n",
        "#@markdown that were recorded as being in my collection when the __corpus__ was\n",
        "#@markdown prepared."
      ],
      "execution_count": 5,
      "outputs": [
        {
          "output_type": "display_data",
          "data": {
            "text/html": [
              "\n",
              "     <input type=\"file\" id=\"files-5ec718b8-a58c-4e35-a914-a26b8764eebd\" name=\"files[]\" multiple disabled\n",
              "        style=\"border:none\" />\n",
              "     <output id=\"result-5ec718b8-a58c-4e35-a914-a26b8764eebd\">\n",
              "      Upload widget is only available when the cell has been executed in the\n",
              "      current browser session. Please rerun this cell to enable.\n",
              "      </output>\n",
              "      <script src=\"/nbextensions/google.colab/files.js\"></script> "
            ],
            "text/plain": [
              "<IPython.core.display.HTML object>"
            ]
          },
          "metadata": {}
        }
      ]
    },
    {
      "cell_type": "code",
      "metadata": {
        "id": "P3Gw3Enw2r6L",
        "outputId": "7c58402f-6c68-4fb5-977b-be67b674d867",
        "colab": {
          "base_uri": "https://localhost:8080/",
          "height": 120,
          "referenced_widgets": [
            "f0e6743db2144eabaf8b3066c4728c62",
            "1a5e8d21f7804c3b88acc1528e9d4d39",
            "c5eb91363ce6403c84fcd7d60c735218",
            "8cd9e1abd4e14ef8ac0b2c0c6c1a54d0",
            "ac97b2f686ab46cbb265c5501b9342d5",
            "4fce990a360543129b15241fdfcac216",
            "f9ca3e36d9674cebbbe0020f96bbd777",
            "5ae9811fe3da48a8b0c4898679cf6912",
            "3d82f2a21de7489d8433a79dec915e0b",
            "b7c5e35e71d040419796c7f040fe0aa7"
          ]
        }
      },
      "source": [
        "#@title Select zip to extract and use { run: \"auto\", vertical-output: true, display-mode: \"form\" }\n",
        "#@markdown Select the file you want to load your _corpus_ from and press\n",
        "#@markdown \"Run Interact\" to load it into memory.\n",
        "\n",
        "#@markdown **note:** You have to rerun the cell (shift+enter) to refresh the\n",
        "#@markdown list of available files.S\n",
        "\n",
        "sources = [_ for _ in os.listdir() if _.endswith('.txt') or _.endswith('.zip')]\n",
        "# source = widgets.Select(options=sources, description='Source:')\n",
        "# display(source)\n",
        "\n",
        "def load_files(source):\n",
        "    if source.endswith('.zip'):\n",
        "        if not os.path.exists(source[:-4]):\n",
        "            os.system(f'unzip {source}')\n",
        "        sources = [os.path.join(p,f) for p,d,fs in os.walk(source[:-4]) for f in fs if f.endswith('.txt')]\n",
        "        if len(sources) == 1:\n",
        "            return load_files(sources[0])\n",
        "        else:\n",
        "            texts = []\n",
        "            for fpath in sources:\n",
        "                with open(fpath, 'r') as f:\n",
        "                    texts.append(f.read())\n",
        "            df = pd.DataFrame({'source': sources, 'raw': texts})\n",
        "            return df\n",
        "    elif source.endswith('.txt'):\n",
        "        with open(source, 'r') as f:\n",
        "            lines = f.read()\n",
        "        sources = []\n",
        "        texts = [] \n",
        "        for nr, line in enumerate(re.split('\\n+', lines)):\n",
        "            sources.append(f'{source}_{nr}')\n",
        "            texts.append(line)\n",
        "        df = pd.DataFrame({'source': sources, 'raw': texts})\n",
        "        return df\n",
        "\n",
        "df = ''\n",
        "@interact_manual(source=widgets.Select(options=sources, description='Source:', rows=len(sources)+1),\n",
        "                 description='load')\n",
        "def set_df(source):\n",
        "    global df\n",
        "    df = load_files(source)\n",
        "    n_docs = len(df)\n",
        "    display(f'Loaded {n_docs} documents into corpus from {source}')\n"
      ],
      "execution_count": 6,
      "outputs": [
        {
          "output_type": "display_data",
          "data": {
            "application/vnd.jupyter.widget-view+json": {
              "model_id": "f0e6743db2144eabaf8b3066c4728c62",
              "version_minor": 0,
              "version_major": 2
            },
            "text/plain": [
              "interactive(children=(Select(description='Source:', options=('collection_txt.zip',), rows=2, value='collection…"
            ]
          },
          "metadata": {}
        }
      ]
    },
    {
      "cell_type": "markdown",
      "metadata": {
        "id": "GaHNyYa2m2Vn"
      },
      "source": [
        "# 2. Preprocessing corpus\n",
        "Before we feed the corpus into the topic modelling algorithm we need to make the corpus readabla by the machine learning algorithm. There are many ways to do\n",
        "to do this in practice, but in essence they are all the same: Turning\n",
        "strings into numerical vectors:\n",
        "\n",
        "$\\vec{d}=(0, 1, 4, 5, 0, 1, ..., 0)$\n",
        "\n",
        "To do this we will treat the texts as Bag of Words (BoW); we do not pay \n",
        "attention to sentence structure, we only count how many times each word\n",
        "(*token*) appears in each *document*.\n",
        "\n",
        "### The process in six steps:\n",
        "1. Turn all _documents_ to lowercase\n",
        "2. Strip _documents_ of puncuation, multiple whitespaces and numbers.\n",
        "3. Remove stopwords (and short words)\n",
        "4. Stem *tokens*\n",
        "5. Establish a vocabulary\n",
        "6. Count vocabulary *tokens* in each document "
      ]
    },
    {
      "cell_type": "code",
      "metadata": {
        "id": "HHbbbXIF249r",
        "outputId": "1c4b4e85-ef94-47b8-be9a-ac7f0250056f",
        "colab": {
          "base_uri": "https://localhost:8080/"
        }
      },
      "source": [
        "#@title Pick a language { run: \"auto\", vertical-output: true, display-mode: \"form\" }\n",
        "#@markdown Since some of the preprocessing steps are language dependent we first\n",
        "#@markdown need to select which language to use. For this exersice there are three\n",
        "#@markdown options: English, Swedish or Latin.\n",
        "#@markdown (There is no stemming prepared for Latin)\n",
        "language = 'English' #@param['English', 'Swedish', 'Latin']\n",
        "gensim.parsing.preprocessing.DEFAULT_FILTERS[-1] = stemmers[language]\n",
        "\n",
        "print(f'You have selected: {language}')"
      ],
      "execution_count": 7,
      "outputs": [
        {
          "output_type": "stream",
          "name": "stdout",
          "text": [
            "You have selected: English\n"
          ]
        }
      ]
    },
    {
      "cell_type": "code",
      "metadata": {
        "id": "fM5mU9Ju25YW"
      },
      "source": [
        "#@title Stopwords { run: \"auto\", vertical-output: true, display-mode: \"form\" }\n",
        "#@markdown __Stopwords__: words that are used too\n",
        "#@markdown often to convey any *real* meaning\n",
        "#@markdown on their own. For topic modelling\n",
        "#@markdown these terms can get in the way of\n",
        "#@markdown reaching relevant topics and are\n",
        "#@markdown therefore removed.\n",
        "\n",
        "#@markdown The simplest way to detect stopwords\n",
        "#@markdown is to use a preexisting list. Which is\n",
        "#@markdown exactly what we are doing here.\n",
        "\n",
        "show_stopwords = False #@param {type:\"boolean\"}\n",
        "\n",
        "add_stopwords = '' #@param {type: \"string\"}\n",
        "new_stopwords = {_ for _ in re.findall(r'\\w+', add_stopwords)}\n",
        "\n",
        "remove_stopwords = '' #@param {type: \"string\"}\n",
        "not_stopwords = {_ for _ in re.findall(r'\\w+', remove_stopwords)}\n",
        "\n",
        "gensim.parsing.preprocessing.STOPWORDS = (stopwords[language] | new_stopwords) - not_stopwords\n",
        "\n",
        "if show_stopwords:\n",
        "    pprint(gensim.parsing.preprocessing.STOPWORDS)"
      ],
      "execution_count": null,
      "outputs": []
    },
    {
      "cell_type": "code",
      "metadata": {
        "id": "9YZqYJy125bI"
      },
      "source": [
        "#@title Preparing Vocabulary { run: \"auto\", vertical-output: true, display-mode: \"form\" }\n",
        "#@markdown The terms from the corpus that we end up using to vectorize the\n",
        "#@markdown documents is called *vocabulary* \n",
        "#@markdown (but is as often referd to as *lexicon* or *dictionary*). \n",
        "\n",
        "#@markdown Leave this box check if you want to ignore all the regular\n",
        "#@markdown preprocessing steps.\n",
        "use_raw = False #@param{type: \"boolean\"}\n",
        "\n",
        "#Preparing raw vocab\n",
        "if 'doc' not in df.columns or use_raw:\n",
        "    df['doc'] = df['raw'].apply(lambda raw: re.findall(r'[a-zA-ZååÅÄÖ\\d]+', raw))\n",
        "else:\n",
        "    df['doc'] = df['raw'].apply(gensim.parsing.preprocessing.preprocess_string)\n",
        "    old_shape = df.shape\n",
        "    # We also have to make sure that we remove the _documents_ that have no representation in this space.\n",
        "    df = df[df['doc'].apply(lambda doc: len(doc)>0)]\n",
        "    # print(f'New shape: {df.shape}\\nOld shape: {old_shap\n",
        "\n",
        "# Preparing the vocabulary\n",
        "vocab = gensim.corpora.Dictionary(documents=df['doc'])\n",
        "\n",
        "#@markdown Selecting the vocabulary by how many documents the terms appear in.\n",
        "#@markdown Everythign below the lower threshold, and above the upper threshold\n",
        "#@markdown will be removed from the *vocabulary*.\n",
        "\n",
        "@interact_manual(thresholds = widgets.IntRangeSlider(\n",
        "    value=[5,50], min=0, max=100, description='frequency (%)'\n",
        "))\n",
        "def vocab_prep(thresholds):\n",
        "    lower, upper = thresholds\n",
        "    global vocab\n",
        "    before = len(vocab)\n",
        "    if lower >0 or upper < 100:\n",
        "        lower /= 100\n",
        "        upper /= 100\n",
        "        vocab.filter_extremes(no_below=lower, no_above=upper)\n",
        "        vocab.compactify()\n",
        "        after = len(vocab)\n",
        "        print(f'Reduced the vocabulary from {before} terms to {after} terms.')\n",
        "    else:\n",
        "        print(f'The vocabulary has {before} terms.')"
      ],
      "execution_count": null,
      "outputs": []
    },
    {
      "cell_type": "code",
      "metadata": {
        "id": "9knFzthojg5R"
      },
      "source": [
        "#@title **Vectorizing the corpus** { run: \"auto\", vertical-output: true, display-mode: \"form\" }\n",
        "\n",
        "#@markdown This is where the magic happens\n",
        "\n",
        "tqdm.pandas(desc=\"Vectorizing corpus\")\n",
        "df['corpus'] = df['doc'].progress_apply(vocab.doc2bow)\n"
      ],
      "execution_count": null,
      "outputs": []
    },
    {
      "cell_type": "markdown",
      "metadata": {
        "id": "4jPoysm7a6iD"
      },
      "source": [
        "# 3. Topic modelling crash course\n",
        "\n",
        "Three important things to know about topic modelling:\n",
        "1. \"Topic\" refers to a *__latent topic__*, which is not what we normally mean when we use the term.\n",
        "2. Texts are considered random compositions of **preexisting topics**\n",
        "3. The model will find exactly as many topics as we tell it to.\n",
        "\n",
        "The most common topic model is called **Latent Dirichlet Allocation (LDA)** and uses\n",
        "the dirichlet-distribution to assign probabilities to each topic-token pair.\n",
        "It is also the basis for other, more specialized, topic modelling algorithms:\n",
        "- Author Topic Modelling (ATM)\n",
        "- Structural Topic Modelling (STM) - Developed for surveys and adds metadata\n",
        "- Dynamic Topic modelling (DTM) - Adds a temporal element\n",
        "\n",
        "Since this process relies on a **random** initiation, different instances of the models, even when using the exact same corpus, will yield different topics. Similar, but not identical.\n",
        "\n",
        "In short the result of a LDA model is a large table that pairs each topic with a specific term in the *vocabulary*:\n",
        "\n",
        "| | topic 0 | topic 1 | ... | topic n |\n",
        "| -- | --- | --- | --- | --- |\n",
        "| word 0 | $p_{0, 0}$ | $p_{0, 1}$ | ... | $p_{0, n}$ |\n",
        "| word 1 | $p_{1, 0}$ | $p_{1, 1}$ | ... | $p_{1, n}$ |\n",
        "| ... | ... | ... | ... | ... |\n",
        "| word m | $p_{m, 0}$ | $p_{m, 1}$ | ... | $p_{m, n}$ |\n",
        "\n",
        "\n"
      ]
    },
    {
      "cell_type": "code",
      "metadata": {
        "id": "JNgr7dWt25dn"
      },
      "source": [
        "#@title Picking the number of topics { run: \"auto\", vertical-output: true, display-mode: \"form\" }\n",
        "\n",
        "#@markdown Since the model will find exactly as many topics as we tell it to,\n",
        "#@markdown how do we select the **correct** number of topics?\n",
        "\n",
        "#@markdown There are essentially three approaches to this:\n",
        "#@markdown 1. Rely on your knowledge of the corpus, how many topics do you expect\n",
        "#@markdown to find?\n",
        "#@markdown 2. Pick a few, but disparate levels: 50, 250, 500 to use for distant\n",
        "#@markdown reading on different levels.\n",
        "#@markdown 3. Select a few metrics and calculate which is the best fit!\n",
        "\n",
        "#@markdown All of these are abitrary and which is more appropriate depends on:\n",
        "#@markdown - Familiarity with the corpus\n",
        "#@markdown - Size of the corpus\n",
        "#@markdown - Research question\n",
        "\n",
        "\n",
        "#@markdown ---\n",
        "#@markdown If you are interested in the metric-based approach, run this cell to\n",
        "#@markdown get a graph of two such metrics calculated on the following number of topics:\n",
        "ntops = []\n",
        "cv = []\n",
        "umass = []\n",
        "logper = []\n",
        "topics = '3, 5, 7, 11, 13, 17, 19, 23' #@param {type: \"string\"}\n",
        "topics = sorted(set(int(_) for _ in re.findall(r'\\d+', topics)))\n",
        "for ntop in tqdm(topics, desc='Calculating scores'):\n",
        "    ntops.append(ntop)\n",
        "    lda =gensim.models.LdaModel(corpus=df['corpus'], id2word=vocab, \n",
        "                                num_topics=ntop, alpha='auto', \n",
        "                                per_word_topics=True)\n",
        "    cm = gensim.models.coherencemodel.CoherenceModel(model=lda, \n",
        "                                                     corpus=df['corpus'], \n",
        "                                                     dictionary=vocab, \n",
        "                                                     texts=df['doc'],\n",
        "                                                     coherence='c_v')\n",
        "    cv.append(cm.get_coherence())\n",
        "    cm_u = gensim.models.coherencemodel.CoherenceModel(model=lda, \n",
        "                                                     corpus=df['corpus'], \n",
        "                                                     dictionary=vocab, \n",
        "                                                     texts=df['doc'],\n",
        "                                                     coherence='u_mass')\n",
        "    umass.append(cm_u.get_coherence())\n",
        "\n",
        "    # logper.append(lda.log_perplexity(df['corpus']))\n",
        "    logper.append(lda.bound(df['corpus']))\n",
        "\n",
        "# Createing a single plot with three different y-axes\n",
        "fig, ax1 = plt.subplots()\n",
        "ax2 =ax1.twinx()\n",
        "ax3 =ax1.twinx()\n",
        "\n",
        "# Plotting each metric on a different y-axis\n",
        "p1, = ax1.plot(ntops, cv, 'r', label='Coherence$_v$ - maximise')\n",
        "p2, = ax2.plot(ntops, umass, 'b', label='U-mass - maximise')\n",
        "p3, = ax3.plot(ntops, logper, 'g--', label='Log perplexity - minimize')\n",
        "\n",
        "# removing ticks and labels on all three y-axes\n",
        "for ax in [ax1, ax2, ax3]:\n",
        "    ax.tick_params(left=False)\n",
        "    ax.set_yticks([])\n",
        "\n",
        "# Setting the appropriate x-ticks, and its label\n",
        "ax1.set_xticklabels(ntops)\n",
        "ax1.set_xticks(ntops)\n",
        "ax1.set_xlabel('Topics')\n",
        "\n",
        "# Adding legend\n",
        "ax1.legend(handles=[p1, p2, p3])\n",
        "\n",
        "# Showing plot\n",
        "plt.show()"
      ],
      "execution_count": null,
      "outputs": []
    },
    {
      "cell_type": "code",
      "metadata": {
        "id": "aVgdxU_x25gN"
      },
      "source": [
        "#@title The topic model { run: \"auto\", vertical-output: true, display-mode: \"form\" }\n",
        "\n",
        "#@markdown With a number of topics in mind we can finally fit a LDA-model to the\n",
        "#@markdown preprocessed corpus. Just fill in the number of topics and the\n",
        "\n",
        "#@markdown ###Selecting the number of topics\n",
        "number_of_topics =  5#@param {type: \"integer\", min: 2, max: 500}\n",
        "\n",
        "#@markdown ###A note on reproducability\n",
        "#@markdown In this instance an algorith called __Latent Dirichlet Allocation__ (LDA) is applied. Part of the initialisation of this algorithm is randomized, this means that we cannot reliably get identical results every time we run the algorithm. By assigning a value to the _seed_ we can make sure that every time __we__ run the same algorith with the the same data and same number of topics they will be identical.   \n",
        "seed = 5 #@param {type: \"number\"}\n",
        "\n",
        "lda = gensim.models.LdaModel(corpus=df['corpus'], id2word=vocab, num_topics=number_of_topics, alpha='auto', per_word_topics=True, random_state=seed)\n",
        "\n",
        "\n",
        "cm = gensim.models.CoherenceModel(coherence='c_v', texts=df['doc'], model=lda)\n",
        "\n",
        "top_topics = sorted([(c,i) for i,c in enumerate(cm.get_coherence_per_topic())], reverse=True)\n",
        "\n",
        "print(f'Calculation done with {number_of_topics} topics.')"
      ],
      "execution_count": null,
      "outputs": []
    },
    {
      "cell_type": "markdown",
      "metadata": {
        "id": "it06ttZu8neJ"
      },
      "source": [
        "# 4. Interpreting the results\n",
        "\n",
        "There are many ways to explore the resulting topics, and we will stick to the most basic approach:\n",
        "\n",
        "- Looking at the top terms of the topics.\n",
        "\n",
        "Note:\n",
        "- The topics are numbered **arbitrarily** starting from zero; they are no indication of which topic is *better*."
      ]
    },
    {
      "cell_type": "code",
      "metadata": {
        "id": "mPN7jn3L6B7f"
      },
      "source": [
        "#@title  Picking a specific topic { run: \"auto\", vertical-output: true, display-mode: \"form\" }\n",
        "\n",
        "#@markdown To inspect the topic select a topic number and the number of terms you want to display. \n",
        "#@markdown Remember that the topic number has to be less than the number of topics you selected when running the model above.\n",
        "#@markdown It is also worth noting that it starts counting at _0_.\n",
        "\n",
        "topic_nr =  0#@param {type: \"integer\"}\n",
        "topic_nr = min(topic_nr, number_of_topics -1)\n",
        "number_of_words =  13 #@param {type : \"slider\", min: 1, max: 20}\n",
        "draw_cloud = True#@param {type: \"boolean\"}\n",
        "\n",
        "print(f'Topic: {topic_nr}')\n",
        "def print_topic_terms(topic_nr):\n",
        "    for term, p in lda.show_topic(topic_nr, number_of_words):\n",
        "        print(f'\\t{term} (p. {p:.4f})')\n",
        "print_topic_terms(topic_nr)\n",
        "\n",
        "def cloud(cloud_topic, cloud_terms, plim=0):\n",
        "    if cloud_topic >= 0 and cloud_topic < lda.num_topics:\n",
        "        cloud = wc(background_color='white', max_words=cloud_terms, contour_width=3, contour_color='steelblue')\n",
        "        term_ps = lda.show_topic(topicid=cloud_topic, topn=cloud_terms)\n",
        "        term_ps\n",
        "        term_freq_dic = {term:p for term, p in term_ps if p>=plim}\n",
        "        cloud.generate_from_frequencies(frequencies=term_freq_dic)\n",
        "\n",
        "        plt.figure(figsize=(7, 4))\n",
        "        plt.axis(\"off\");\n",
        "    #         plt.gcf().canvas.set_window_title('My Window Title') \n",
        "    #         plt.gca().set_title('Simple plot')\n",
        "        plt.imshow(cloud) \n",
        "        plt.show()\n",
        "if draw_cloud:\n",
        "    cloud(topic_nr, number_of_words)"
      ],
      "execution_count": null,
      "outputs": []
    },
    {
      "cell_type": "code",
      "metadata": {
        "id": "9CBubk69HHrg"
      },
      "source": [
        "#@title Inspecting top topics { run: \"auto\", vertical-output: true, display-mode: \"form\" }\n",
        "#@markdown Alternatively select how many of the __top__ topics and number of terms to inspect\n",
        "nr_top_topics =  20#@param {type: \"integer\"}\n",
        "number_of_words =  20 #@param {type : \"slider\", min: 1, max: 20}\n",
        "draw = 'Cloud' #@param [\"Table\", \"Cloud\", \"Both\"]\n",
        "\n",
        "for coherence, topic in top_topics[:nr_top_topics]:\n",
        "    print(f'Topic: {topic} (coherence {coherence:.4f})')\n",
        "    if draw != 'Cloud':\n",
        "        print_topic_terms(topic)\n",
        "    if draw != 'Table':\n",
        "        cloud(topic, nr_top_topics)\n"
      ],
      "execution_count": null,
      "outputs": []
    }
  ]
}